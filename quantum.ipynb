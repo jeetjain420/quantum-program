{
 "cells": [
  {
   "cell_type": "code",
   "execution_count": 1,
   "metadata": {},
   "outputs": [],
   "source": [
    "import cirq\n",
    "import numpy as np\n",
    "from cirq import Circuit\n",
    "from cirq.devices import GridQubit"
   ]
  },
  {
   "cell_type": "code",
   "execution_count": 2,
   "metadata": {},
   "outputs": [
    {
     "name": "stdout",
     "output_type": "stream",
     "text": [
      "[cirq.GridQubit(1, 0), cirq.GridQubit(1, 1), cirq.GridQubit(1, 2), cirq.GridQubit(1, 3), cirq.GridQubit(1, 4), cirq.GridQubit(1, 0), cirq.GridQubit(1, 1), cirq.GridQubit(1, 2), cirq.GridQubit(1, 3), cirq.GridQubit(1, 4), cirq.GridQubit(1, 0), cirq.GridQubit(1, 1), cirq.GridQubit(1, 2), cirq.GridQubit(1, 3), cirq.GridQubit(1, 4), cirq.GridQubit(1, 0), cirq.GridQubit(1, 1), cirq.GridQubit(1, 2), cirq.GridQubit(1, 3), cirq.GridQubit(1, 4), cirq.GridQubit(1, 0), cirq.GridQubit(1, 1), cirq.GridQubit(1, 2), cirq.GridQubit(1, 3), cirq.GridQubit(1, 4)]\n"
     ]
    }
   ],
   "source": [
    "length = 5\n",
    "qubits = [cirq.GridQubit(1, j) for i in range(length) for j in range(length)]\n",
    "print(qubits)"
   ]
  },
  {
   "cell_type": "code",
   "execution_count": 3,
   "metadata": {},
   "outputs": [],
   "source": [
    "circuit = cirq.Circuit()\n",
    "H1 = cirq.H(qubits[0])\n",
    "H2 = cirq.H(qubits[1])\n",
    "H3 = cirq.H(qubits[2])\n",
    "H4 = cirq.H(qubits[3])\n",
    "H5 = cirq.H(qubits[4])"
   ]
  },
  {
   "cell_type": "code",
   "execution_count": 4,
   "metadata": {},
   "outputs": [],
   "source": [
    "C1 = cirq.CNOT(qubits[0],qubits[1])\n",
    "C2 = cirq.CNOT(qubits[1],qubits[2])\n",
    "C3 = cirq.CNOT(qubits[2],qubits[3])\n",
    "C4 = cirq.CNOT(qubits[3],qubits[4])\n",
    "\n",
    "S1 = cirq.SWAP(qubits[0], qubits[4])\n",
    "\n",
    "X1 = cirq.X(qubits[0])\n",
    "X2 = cirq.X(qubits[1])\n",
    "X3 = cirq.X(qubits[2])\n",
    "X4 = cirq.X(qubits[3])\n",
    "X5 = cirq.X(qubits[4])"
   ]
  },
  {
   "cell_type": "code",
   "execution_count": 8,
   "metadata": {},
   "outputs": [],
   "source": [
    "moment1 = cirq.Moment([S1])\n",
    "moment2 = cirq.Moment([H1])\n",
    "moment3 = cirq.Moment([H2])\n",
    "moment4 = cirq.Moment([H3])\n",
    "moment5 = cirq.Moment([H4])\n",
    "moment6 = cirq.Moment([H5])\n",
    "moment7 = cirq.Moment([C1])\n",
    "moment8 = cirq.Moment([C2])\n",
    "moment9 = cirq.Moment([C3])\n",
    "moment10 = cirq.Moment([X1])"
   ]
  },
  {
   "cell_type": "code",
   "execution_count": 10,
   "metadata": {},
   "outputs": [
    {
     "name": "stdout",
     "output_type": "stream",
     "text": [
      "(1, 0): ───×───H───────────────────@───────────X───\n",
      "           │                       │\n",
      "(1, 1): ───┼───────H───────────────X───@───────────\n",
      "           │                           │\n",
      "(1, 2): ───┼───────────H───────────────X───@───────\n",
      "           │                               │\n",
      "(1, 3): ───┼───────────────H───────────────X───────\n",
      "           │\n",
      "(1, 4): ───×───────────────────H───────────────────\n"
     ]
    }
   ],
   "source": [
    "circuit = cirq.Circuit((moment1,moment2,moment3,moment4,moment5,moment6,moment7,moment8,moment9,moment10))\n",
    "print(circuit)"
   ]
  },
  {
   "cell_type": "code",
   "execution_count": null,
   "metadata": {},
   "outputs": [],
   "source": []
  }
 ],
 "metadata": {
  "kernelspec": {
   "display_name": "Python 3",
   "language": "python",
   "name": "python3"
  },
  "language_info": {
   "codemirror_mode": {
    "name": "ipython",
    "version": 3
   },
   "file_extension": ".py",
   "mimetype": "text/x-python",
   "name": "python",
   "nbconvert_exporter": "python",
   "pygments_lexer": "ipython3",
   "version": "3.7.4"
  }
 },
 "nbformat": 4,
 "nbformat_minor": 2
}
